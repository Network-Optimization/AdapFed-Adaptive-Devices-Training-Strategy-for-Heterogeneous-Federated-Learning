{
 "cells": [
  {
   "cell_type": "code",
   "execution_count": 1,
   "metadata": {},
   "outputs": [],
   "source": [
    "import sys\n",
    "sys.path.append('/data/test/zhouying/完整交付代码')"
   ]
  },
  {
   "cell_type": "code",
   "execution_count": 2,
   "metadata": {},
   "outputs": [],
   "source": [
    "import torch\n",
    "import numpy as np\n",
    "from utils.plots import ExperimentLogger\n",
    "from method.clustered.clustered import clustered_fl\n",
    "from method.my.my import my_fl\n",
    "from method.my.my import my_fl_suijichouqu\n",
    "from method.my.my import my_icassp\n",
    "from method.fedavg.fedavg import fed_avg_fl\n",
    "from method.fedavg.fedavg import FedAvg_suijichouqu\n",
    "from method.clustered.clustered import clustered_fl_suijichouqu\n",
    "from method.ditto.ditto import ditto_fl\n",
    "from method.ditto.ditto import ditto_fl_suijichouqu\n",
    "from method.local.local import local_fl\n",
    "\n",
    "from init_devices import init_clients_and_server\n",
    "from init_datasets import load_dataset\n",
    "import argparse\n",
    "from utils.plots import draw_result_table\n",
    "torch.cuda.set_device(1)\n"
   ]
  },
  {
   "cell_type": "code",
   "execution_count": 3,
   "metadata": {},
   "outputs": [],
   "source": [
    "def parse_args():\n",
    "    \"\"\"parse the command line args\n",
    "\n",
    "    Returns:\n",
    "        args: a namespace object including args\n",
    "    \"\"\"\n",
    "    parser = argparse.ArgumentParser(description=__doc__)\n",
    "    parser.add_argument(\n",
    "        '--dataset',\n",
    "        help=\"name of dataset;\"\n",
    "        \" possible are `EMNIST`, `FashionMNIST`, `CIFAR10`，`CIFAR100`, `Shakespeare`\",\n",
    "        type=str,\n",
    "        default='CIFAR10'\n",
    "    )\n",
    "    parser.add_argument(\n",
    "        '--method',\n",
    "        help = \"the method to be used;\"\n",
    "               \" possible are `My`,`Clustered`, `FedAvg`, `Ditto`, `Local`, 'Overlap'\",\n",
    "        type=str,\n",
    "        default='My'\n",
    "    )\n",
    "    parser.add_argument(\n",
    "        '--pathological_split',\n",
    "        help='if selected, the dataset will be split as in'\n",
    "             '\"Communication-Efficient Learning of Deep Networks from Decentralized Data\";'\n",
    "             'i.e., each client will receive `n_shards` of dataset, where each shard contains at most two classes',\n",
    "        action='store_true'\n",
    "    )\n",
    "    parser.add_argument(\n",
    "        '--n_shards',\n",
    "        help='number of shards given to each clients/task; ignored if `--pathological_split` is not used;'\n",
    "             'default is 2',\n",
    "        type=int,\n",
    "        default=2\n",
    "    )\n",
    "    parser.add_argument(\n",
    "        '--n_clients',\n",
    "        help = \"the number of clients\",\n",
    "        type=int,\n",
    "        default=10\n",
    "    )\n",
    "    parser.add_argument(\n",
    "        '--n_clusters',\n",
    "        help = \"initialize the number of cluster of data distribution\",\n",
    "        type=int,\n",
    "        default=3\n",
    "    )\n",
    "    parser.add_argument(\n",
    "        '--alpha',\n",
    "        help = \"the parameter of dirichlet\",\n",
    "        type=float,\n",
    "        default=1.0\n",
    "    )\n",
    "    parser.add_argument(\n",
    "        '--local_epochs',\n",
    "        help='number of local epochs before communication; default is 1',\n",
    "        type=int,\n",
    "        default=1\n",
    "    )\n",
    "    parser.add_argument(\n",
    "        \"--n_rounds\",\n",
    "        help=\"number of communication rounds\",\n",
    "        type=int,\n",
    "        default=100\n",
    "    )\n",
    "    parser.add_argument(\n",
    "        \"--n_sample\",\n",
    "        help=\"number of sample to use\",\n",
    "        type=int,\n",
    "        default=20000\n",
    "    )\n",
    "    parser.add_argument(\n",
    "        \"--train_frac\",\n",
    "        help=\"fraction of train samples\",\n",
    "        type=float,\n",
    "        default=0.8\n",
    "    )\n",
    "    parser.add_argument(\n",
    "        \"--val_frac\",\n",
    "        help=\"fraction of validation samples in train samples\",\n",
    "        type=float,\n",
    "        default=0\n",
    "    )   \n",
    "    parser.add_argument(\n",
    "        \"--seed\",\n",
    "        help='random seed',\n",
    "        type=int,\n",
    "        default=42\n",
    "    )\n",
    "    args = parser.parse_args()\n",
    "    return args"
   ]
  },
  {
   "cell_type": "code",
   "execution_count": 4,
   "metadata": {},
   "outputs": [
    {
     "name": "stdout",
     "output_type": "stream",
     "text": [
      "{'dataset': 'CIFAR100', 'method': 'PFCAL', 'pathological_split': False, 'n_shards': 2, 'n_clients': 20, 'n_clusters': 3, 'alpha': 1.0, 'local_epochs': 1, 'n_rounds': 100, 'n_sample': 40000, 'train_frac': 0.8, 'val_frac': 0.0, 'seed': 42}\n"
     ]
    }
   ],
   "source": [
    "# 手动创建 Namespace 对象并设置属性\n",
    "args = argparse.Namespace(\n",
    "    dataset='CIFAR100',\n",
    "    method='PFCAL',\n",
    "    pathological_split=False,\n",
    "    n_shards=2,\n",
    "    n_clients=20,\n",
    "    n_clusters=3,\n",
    "    alpha=1.0,\n",
    "    local_epochs=1,\n",
    "    n_rounds=100,\n",
    "    n_sample=40000,\n",
    "    train_frac=0.8,\n",
    "    val_frac=0.0,\n",
    "    seed=42\n",
    ")\n",
    "\n",
    "# 将 Namespace 对象转换为字典\n",
    "args_dict = vars(args)\n",
    "print(args_dict)"
   ]
  },
  {
   "cell_type": "code",
   "execution_count": 5,
   "metadata": {},
   "outputs": [],
   "source": [
    "def flatten(source):\n",
    "    return torch.cat([value.flatten() for value in source.values()])\n",
    "def pairwise_angles(sources):\n",
    "    angles = torch.zeros([len(sources), len(sources)])\n",
    "    for i, source1 in enumerate(sources):\n",
    "        for j, source2 in enumerate(sources):\n",
    "            s1 = flatten(source1)\n",
    "            s2 = flatten(source2)\n",
    "            angles[i,j] = torch.sum(s1*s2)/(torch.norm(s1)*torch.norm(s2)+1e-12)\n",
    "    return angles.numpy()\n",
    "\n",
    "def compute_pairwise_similarities(clients):\n",
    "    return pairwise_angles([client.dW for client in clients])"
   ]
  },
  {
   "cell_type": "code",
   "execution_count": 6,
   "metadata": {},
   "outputs": [],
   "source": [
    "from copy import deepcopy\n",
    "from sklearn.cluster import KMeans\n",
    "from sklearn.metrics import silhouette_score\n",
    "\n",
    "def Com_clinet(clients,similarities):\n",
    "    a=deepcopy(clients)\n",
    "    similarity_matrix = np.array(similarities)  # 确保相似性矩阵已经正确定义和初始化\n",
    "    # 尝试不同的聚类数目\n",
    "    best_num_clusters = 2  # 假设2为起始聚类数目\n",
    "    best_silhouette = -np.inf\n",
    "\n",
    "    for n_clusters in range(2, 10):  # 尝试从2到9个聚类\n",
    "        kmeans = KMeans(n_clusters=n_clusters, random_state=0)\n",
    "        kmeans.fit(similarity_matrix)\n",
    "        \n",
    "        # 计算轮廓系数\n",
    "        silhouette_avg = silhouette_score(similarity_matrix, kmeans.labels_)\n",
    "        \n",
    "        # 记录最优的聚类数目\n",
    "        if silhouette_avg > best_silhouette:\n",
    "            best_silhouette = silhouette_avg\n",
    "            best_num_clusters = n_clusters\n",
    "            best_labels = kmeans.labels_  # 保存当前最优的聚类标签\n",
    "        \n",
    "        # print(f\"最优的聚类数目是: {best_num_clusters}\")\n",
    "        \n",
    "        data_points = list(range(len(similarity_matrix)))\n",
    "        clustered_data_points = {}\n",
    "        for user, label in zip(data_points, best_labels):\n",
    "            clustered_data_points.setdefault(label, []).append(user)\n",
    "        res_idc=[]\n",
    "        for cluster_id, users in clustered_data_points.items():\n",
    "            res_idc.append(users)\n",
    "        print(res_idc)\n",
    "        return res_idc"
   ]
  },
  {
   "cell_type": "code",
   "execution_count": 7,
   "metadata": {},
   "outputs": [],
   "source": [
    "def flatten(source):\n",
    "    return torch.cat([value.flatten() for value in source.values()])\n",
    "def pairwise_angles(sources):\n",
    "    angles = torch.zeros([len(sources), len(sources)])\n",
    "    for i, source1 in enumerate(sources):\n",
    "        for j, source2 in enumerate(sources):\n",
    "            s1 = flatten(source1)\n",
    "            s2 = flatten(source2)\n",
    "            angles[i,j] = torch.sum(s1*s2)/(torch.norm(s1)*torch.norm(s2)+1e-12)\n",
    "    return angles.numpy()\n",
    "\n",
    "def compute_pairwise_similarities(clients):\n",
    "    return pairwise_angles([client.dW for client in clients])"
   ]
  },
  {
   "cell_type": "code",
   "execution_count": 8,
   "metadata": {},
   "outputs": [],
   "source": [
    "def run_experiment(args, clients, server,closest_indices):\n",
    "\n",
    "                \n",
    "    cfl_stats = ExperimentLogger()\n",
    "\n",
    "    if args.method == \"Clustered\":\n",
    "        clustered_fl(args, clients, server, cfl_stats)\n",
    "    elif args.method == \"Clustered_suijichouqu\":\n",
    "        clustered_fl_suijichouqu(args, clients, server, cfl_stats)\n",
    "    elif args.method == \"My\":\n",
    "        my_fl(args, clients, server, cfl_stats)\n",
    "    elif args.method == \"My_suijichouqu\":\n",
    "        my_fl_suijichouqu(args, clients, server, cfl_stats)    \n",
    "    elif args.method == \"FedAvg\":\n",
    "        fed_avg_fl(args, clients, server, cfl_stats,)\n",
    "    elif args.method == \"Ditto\":\n",
    "        ditto_fl(args, clients, server, cfl_stats)\n",
    "    elif args.method == \"Ditto_suijichouqu\":\n",
    "        ditto_fl_suijichouqu(args, clients, server, cfl_stats)\n",
    "    elif args.method == \"Local\":\n",
    "        local_fl(args, clients, server, cfl_stats)\n",
    "    elif args.method == \"PFCAL\":\n",
    "        PFCAL(args, clients, server, cfl_stats)\n",
    "    elif args.method == \"PACFL\":\n",
    "        PACFL(args, clients, server, cfl_stats)\n",
    "    elif args.method == \"my_icassp\":\n",
    "        my_icassp(args, clients, server, cfl_stats,closest_indices)\n",
    "    elif args.method == \"FedAvg_suijichouqu\":\n",
    "        FedAvg_suijichouqu(args, clients, server, cfl_stats)\n",
    "    else:\n",
    "        raise IOError(\"possible are `My`,`Clustered`, `FedAvg`, `Ditto`, `Local`, `Overlap`\")\n",
    "    # elif args.method == \"Overlap\":\n",
    "    #     overlap_fl(args, clients, server, cfl_stats)\n",
    "\n",
    "    draw_result_table(args, clients, server)\n"
   ]
  },
  {
   "cell_type": "code",
   "execution_count": 9,
   "metadata": {},
   "outputs": [
    {
     "name": "stdout",
     "output_type": "stream",
     "text": [
      "Files already downloaded and verified\n",
      "Files already downloaded and verified\n"
     ]
    }
   ],
   "source": [
    "\n",
    "torch.manual_seed(args.seed)\n",
    "np.random.seed(args.seed)\n",
    "\n",
    "\n",
    "dataset, client_train_idcs, client_test_idcs, client_val_idcs, data_info = load_dataset(args)\n",
    "# print(dataset)\n",
    "# print(client_train_idcs)\n",
    "# print(len(client_train_idcs))\n",
    "# print(len(client_test_idcs))\n",
    "# print(data_info)\n",
    "#     # print(dataset[0])\n",
    "#     # print(client_train_idcs)\n",
    "#     # print(client_test_idcs)\n",
    "clients, server = init_clients_and_server(args, dataset, client_train_idcs, client_test_idcs, client_val_idcs, data_info)\n",
    "\n",
    "#     #Now everything is set up to run our Clustered Federated Learning algorithm. During training, we will track the mean and std client accuracies, as well as the average and maximum client update norms."
   ]
  },
  {
   "cell_type": "code",
   "execution_count": 10,
   "metadata": {},
   "outputs": [
    {
     "name": "stdout",
     "output_type": "stream",
     "text": [
      "20\n"
     ]
    },
    {
     "name": "stderr",
     "output_type": "stream",
     "text": [
      "/data/test/miniconda3/envs/FL_ZHOUYING/lib/python3.8/site-packages/torchvision/transforms/functional.py:96: UserWarning: TypedStorage is deprecated. It will be removed in the future and UntypedStorage will be the only storage class. This should only matter to you if you are using storages directly.  To access UntypedStorage directly, use tensor.untyped_storage() instead of tensor.storage()\n",
      "  img = torch.ByteTensor(torch.ByteStorage.from_buffer(pic.tobytes()))\n"
     ]
    },
    {
     "name": "stdout",
     "output_type": "stream",
     "text": [
      "[2 1 2 2 1 2 2 1 2 2 2 1 2 2 2 1 2 2 1 2]\n",
      "最接近质心的点的索引：\n",
      "[[18, 1, 11, 4, 7, 15], [9, 13, 10, 0, 3, 19, 16, 5, 6, 8]]\n"
     ]
    }
   ],
   "source": [
    "from numpy.linalg import svd\n",
    "\n",
    "print(len(client_train_idcs))\n",
    "# print(np.vstack([torch.flatten(dataset[i][0]) for i in client_train_idcs[0]]))\n",
    "principal_component_list=[]\n",
    "for idx in range(args.n_clients):\n",
    "    # print(np.vstack([torch.flatten(dataset[i][0]) for i in client_train_idcs[0]]))\n",
    "    matrix=np.vstack([torch.flatten(dataset[i][0]) for i in client_train_idcs[idx]])\n",
    "    U, S, Vt = svd(matrix)\n",
    "    principal_component = U[:, 0]\n",
    "    # print(principal_component)\n",
    "    principal_component_list.append(principal_component)\n",
    "    # break\n",
    "\n",
    "def cosine_similarity(vec1, vec2):\n",
    "    return np.dot(vec1, vec2) / (np.linalg.norm(vec1) * np.linalg.norm(vec2))\n",
    "\n",
    "n = len(principal_component_list)\n",
    "similarity_matrix = np.zeros((n, n))\n",
    "\n",
    "# 计算第一个主成分向量之间的相似度\n",
    "for i in range(len(principal_component_list)):\n",
    "    for j in range(i + 1, len(principal_component_list)):\n",
    "        sim = cosine_similarity(principal_component_list[i][0:min(len(principal_component_list[i]),len(principal_component_list[j]))], principal_component_list[j][0:min(len(principal_component_list[i]),len(principal_component_list[j]))])\n",
    "        # print(f\"主成分向量 {i} 和 {j} 的相似度: {sim:.4f}\")\n",
    "        similarity_matrix[i, j] = sim\n",
    "        similarity_matrix[j, i] = sim\n",
    "\n",
    "import numpy as np\n",
    "from scipy.cluster.hierarchy import linkage, fcluster\n",
    "from sklearn.metrics.pairwise import cosine_similarity\n",
    "\n",
    "# 将相似度矩阵转换为距离矩阵 (1 - 相似度)\n",
    "distance_matrix = 1 - similarity_matrix\n",
    "\n",
    "# 使用层次聚类 (基于距离矩阵)\n",
    "Z = linkage(distance_matrix, method='average')\n",
    "\n",
    "# 选择聚类数量，例如3个簇\n",
    "n_clusters = 2\n",
    "clusters = fcluster(Z, n_clusters, criterion='maxclust')\n",
    "\n",
    "# 计算每个簇的质心并找到最接近质心的点\n",
    "def find_closest_to_centroid_from_similarity(similarity_matrix, labels, n_clusters, num_points=1):\n",
    "    closest_indices = []  # 存储最接近质心的点的索引\n",
    "    closest_indices_list=[]\n",
    "    for cluster_id in range(1, n_clusters + 1):\n",
    "        # 找到属于该簇的向量索引\n",
    "        cluster_indices = np.where(labels == cluster_id)[0]\n",
    "        cluster_sim_matrix = similarity_matrix[np.ix_(cluster_indices, cluster_indices)]\n",
    "\n",
    "        # 计算该簇的质心（通过计算相似度矩阵的均值来近似质心）\n",
    "        centroid_sim = np.mean(cluster_sim_matrix, axis=0)\n",
    "\n",
    "        # 计算每个点到质心的相似度，距离最小的点最接近质心\n",
    "        distances = 1 - centroid_sim\n",
    "\n",
    "        # 找到距离最小的 num_points 个点，返回它们的原始索引\n",
    "        closest_idx_in_cluster = np.argsort(distances)[:num_points]\n",
    "        closest_indices.append(list(cluster_indices[closest_idx_in_cluster]))\n",
    "        closest_indices_list.extend(list(cluster_indices[closest_idx_in_cluster]))\n",
    "\n",
    "    return closest_indices,closest_indices_list\n",
    "\n",
    "# 找到每个簇中最接近质心的点，返回它们的索引\n",
    "closest_indices,closest_indices_list = find_closest_to_centroid_from_similarity(similarity_matrix, clusters, n_clusters, num_points=10)\n",
    "\n",
    "# 输出最接近质心的点的索引\n",
    "print(clusters)\n",
    "print(\"最接近质心的点的索引：\")\n",
    "print(closest_indices)"
   ]
  },
  {
   "cell_type": "code",
   "execution_count": 11,
   "metadata": {},
   "outputs": [],
   "source": [
    "# from utils.plots import display_train_stats\n",
    "# from tqdm import tqdm\n",
    "\n",
    "# def PFCAL(args, clients, server, cfl_stats):\n",
    "\n",
    "#     EPS_1 = 0.4\n",
    "#     EPS_2 = 1.6   \n",
    "\n",
    "#     cluster_indices = [[client_id for client_id in range(len(clients))]]\n",
    "        \n",
    "#     # similarities = server.compute_pairwise_similarities(clients)\n",
    "#     #print(similarities)\n",
    "#     # 进行n_rounds轮迭代\n",
    "#     acc_clients = []\n",
    "#     pbar = tqdm(total=args.n_rounds)\n",
    "#     client_clusters=[]\n",
    "    \n",
    "#     for c_round in range(1, args.n_rounds+1):\n",
    "#         # print(cluster_indices)\n",
    "#     # c_round为当前的通信轮数\n",
    "#         # 初始时需要保证客户端和服务器模型同步\n",
    "#         if c_round == 1:\n",
    "#             for client in clients:\n",
    "#                 client.synchronize_with_server(server)\n",
    "                \n",
    "#         participating_clients = server.select_clients(clients, frac=1)\n",
    "#         participating_clients_1= server.select_clients(clients, frac=0.35)\n",
    "\n",
    "#         for client in participating_clients:\n",
    "#             train_stats = client.compute_weight_update(epochs=args.local_epochs)\n",
    "#             client.reset()\n",
    "#         max_norm = server.compute_max_update_norm(clients)\n",
    "#         # 计算某个簇内的client的平均参数范数\n",
    "#         mean_norm = server.compute_mean_update_norm(clients)\n",
    "#         similarities = compute_pairwise_similarities(clients)\n",
    "#         if c_round == 20:\n",
    "#             res_idc=Com_clinet(clients,similarities)\n",
    "#             client_clusters = [[clients[i] for i in idcs] for idcs in res_idc]\n",
    "#             print(client_clusters)\n",
    "        \n",
    "#         if c_round < 20:\n",
    "#             client_clusters = [[clients[i] for i in idcs] for idcs in closest_indices]\n",
    "        \n",
    "#         # if client_clusters==[]:\n",
    "#         #     # print(\"clients\",clients)\n",
    "#         #     server.aggregate_weight_updates(participating_clients)\n",
    "#         # else:\n",
    "#         #     for idx in range(len(client_clusters)):\n",
    "#         #         server.aggregate_weight_updates(client_clusters[idx])\n",
    "    \n",
    "#         if c_round>=20:\n",
    "#             result = []\n",
    "#             for group in client_clusters:\n",
    "#                 matching_clients = [client for client in group if client in participating_clients_1]\n",
    "#                 if matching_clients:\n",
    "#                     result.append(matching_clients)\n",
    "#             print(\"result\",result)\n",
    "#             server.aggregate_weight_updates(result)\n",
    "#         else:\n",
    "#             for idx in range(len(client_clusters)):\n",
    "#                 server.aggregate_weight_updates(client_clusters[idx])\n",
    "\n",
    "#         for client in clients:\n",
    "#             client.synchronize_with_server(server)    \n",
    "\n",
    "#         acc_clients = [client.evaluate() for client in clients]\n",
    "#         cfl_stats.log({\"acc_clients\" : acc_clients, \"mean_norm\" : mean_norm, \"max_norm\" : max_norm,\"rounds\" : c_round, \"clusters\" : cluster_indices})\n",
    "#         pbar.update(1)\n",
    "#         display_train_stats(cfl_stats, EPS_1, EPS_2, args.n_rounds)\n",
    "#     for idc in cluster_indices:    \n",
    "#         server.cache_model(idc, clients[idc[0]].W, acc_clients)"
   ]
  },
  {
   "cell_type": "code",
   "execution_count": 12,
   "metadata": {},
   "outputs": [],
   "source": [
    "import numpy as np\n",
    "from tqdm import tqdm\n",
    "from utils.plots import display_train_stats, clear_graph_pic_dir\n",
    "\n",
    "def PFCAL(args, clients, server, cfl_stats):\n",
    "\n",
    "    EPS_1 = 0.4\n",
    "    EPS_2 = 1.6   \n",
    "    mean_norm=0\n",
    "    max_norm=0\n",
    "    cluster_indices = [[client_id for client_id in range(len(clients))]]\n",
    "    client_clusters = [[clients[i] for i in idcs] for idcs in cluster_indices]\n",
    "\n",
    "    similarities = server.compute_pairwise_similarities(clients)\n",
    "    server.cache_cluster(cluster_indices, 0)\n",
    "    #print(similarities)\n",
    "    # 进行n_rounds轮迭代\n",
    "    acc_clients = []\n",
    "    clear_graph_pic_dir()\n",
    "    pbar = tqdm(total=args.n_rounds)\n",
    "    for c_round in range(1, args.n_rounds+1):\n",
    "        # print(cluster_indices)\n",
    "        # c_round为当前的通信轮数\n",
    "        # 设置客户端初始化模型\n",
    "        if c_round == 1:\n",
    "            for client in clients:\n",
    "                client.synchronize_with_server(server)\n",
    "                \n",
    "        participating_clients = server.select_clients(clients, frac=1.0)\n",
    "\n",
    "        participating_clients_1 = server.select_clients(clients, frac=0.35)\n",
    "\n",
    "        for client in participating_clients:\n",
    "            train_stats = client.compute_weight_update(epochs=args.local_epochs)\n",
    "            client.reset()\n",
    "\n",
    "        # 现将表示所有clients之间参数相似度的邻接矩阵算好放在这里\n",
    "        similarities = server.compute_pairwise_similarities(clients)\n",
    "        #print(similarities)\n",
    "        # cluster_indices_new = []\n",
    "\n",
    "        # if c_round <  7 :\n",
    "        #     # cluster_indices = closest_indices_list\n",
    "        #     client_clusters = [[clients[i] for i in idcs] for idcs in cluster_indices]\n",
    "        # if c_round >= 7 and c_round<20:\n",
    "        #     client_clusters=participating_clients_1\n",
    "            \n",
    "        if c_round ==  20:\n",
    "            res_idc=Com_clinet(clients,similarities)\n",
    "            client_clusters = [[clients[i] for i in idcs] for idcs in res_idc]\n",
    "            print(client_clusters)\n",
    "\n",
    "        # if c_round >= 20 :\n",
    "        #     result = []\n",
    "        #     for group in client_clusters:\n",
    "        #         matching_clients = [client for client in group if client in participating_clients_1]\n",
    "        #         if matching_clients:\n",
    "        #             result.append(matching_clients)\n",
    "        #     print(\"result\",result)\n",
    "        #     server.aggregate_clusterwise(result)\n",
    "        # else:\n",
    "        #     server.aggregate_clusterwise(client_clusters)\n",
    "        # if c_round <  20:\n",
    "        #     client_clusters = [[clients[i] for i in idcs] for idcs in closest_indices]\n",
    "        #     server.aggregate_clusterwise(client_clusters)\n",
    "        \n",
    "        if c_round %2==0 and c_round<=20:\n",
    "            client_clusters = [[clients[i] for i in idcs] for idcs in [closest_indices[0][0:3],closest_indices[1][0:3]]]\n",
    "            server.aggregate_clusterwise(client_clusters)\n",
    "        if c_round %2==1 and c_round<=20:\n",
    "            client_clusters = [[clients[i] for i in idcs] for idcs in closest_indices]\n",
    "            result = []\n",
    "            for group in client_clusters:\n",
    "                matching_clients = [client for client in group if client in participating_clients_1]\n",
    "                if matching_clients:\n",
    "                    result.append(matching_clients)\n",
    "            print(\"result\",result)\n",
    "            server.aggregate_clusterwise(result)\n",
    "            # server.aggregate_clusterwise([participating_clients_1])\n",
    "        \n",
    "        if c_round >= 20 :\n",
    "            result = []\n",
    "            for group in client_clusters:\n",
    "                matching_clients = [client for client in group if client in participating_clients_1]\n",
    "                if matching_clients:\n",
    "                    result.append(matching_clients)\n",
    "            print(\"result\",result)\n",
    "            server.aggregate_clusterwise(result)\n",
    "            # server.aggregate_clusterwise(client_clusters)\n",
    "\n",
    "        acc_clients = [client.evaluate() for client in clients]\n",
    "\n",
    "        # if c_round < 20:\n",
    "        #     acc_clients = [client.evaluate() for client in [clients[i] for i in closest_indices]]\n",
    "        # else:\n",
    "        #     acc_clients = [client.evaluate() for client in participating_clients_1]\n",
    "        \n",
    "        cfl_stats.log({\"acc_clients\" : acc_clients, \"mean_norm\" : mean_norm, \"max_norm\" : max_norm,\n",
    "                    \"rounds\" : c_round, \"clusters\" : cluster_indices})\n",
    "        \n",
    "        display_train_stats(cfl_stats, EPS_1, EPS_2, args.n_rounds)\n",
    "        pbar.update(1)\n",
    "    for idc in cluster_indices:    \n",
    "        server.cache_model(idc, clients[idc[0]].W, acc_clients)"
   ]
  },
  {
   "cell_type": "code",
   "execution_count": 13,
   "metadata": {},
   "outputs": [],
   "source": [
    "from utils.plots import display_train_stats\n",
    "import numpy as np\n",
    "from tqdm import tqdm\n",
    "\n",
    "def PACFL(args, clients, server, cfl_stats):\n",
    "    EPS_1 = 0.4\n",
    "    EPS_2 = 1.6   \n",
    "    per_local_epochs = 1\n",
    "    lam = 0.1\n",
    "    \n",
    "    cluster_indices = [[client_id for client_id in range(len(clients))]]\n",
    "\n",
    "    # 进行n_rounds轮迭代\n",
    "    acc_clients = []\n",
    "    pbar = tqdm(total=args.n_rounds)    \n",
    "    for c_round in range(1, args.n_rounds+1):\n",
    "        # print(cluster_indices)\n",
    "        # c_round为当前的通信轮数\n",
    "        # 初始时需要保证客户端和服务器模型同步\n",
    "        if c_round == 1:\n",
    "            for client in clients:\n",
    "                client.synchronize_with_server(server)\n",
    "                \n",
    "        participating_clients = server.select_clients(clients, frac=0.35)\n",
    "        # participating_clients_1=server.select_clients(clients, frac=0.35)\n",
    "\n",
    "        for client in participating_clients:\n",
    "            train_stats = client.compute_weight_update(epochs=args.local_epochs)\n",
    "            client.reset()\n",
    "            train_stats = client.compute_personalized_weight(epochs=per_local_epochs, lam=lam)\n",
    "        \n",
    "        max_norm = server.compute_max_update_norm(clients)\n",
    "        # 计算某个簇内的client的平均参数范数\n",
    "        mean_norm = server.compute_mean_update_norm(clients)\n",
    "\n",
    "        if c_round <  7 :\n",
    "            cluster_indices = closest_indices_list\n",
    "            client_clusters = [[clients[i] for i in idcs] for idcs in closest_indices]\n",
    "\n",
    "        if c_round <  7 :\n",
    "            server.aggregate_weight_updates(client_clusters[0])\n",
    "        else:\n",
    "            server.aggregate_weight_updates(participating_clients)\n",
    "    \n",
    "        for client in clients:\n",
    "            client.synchronize_with_server(server)    \n",
    "        \n",
    "        acc_clients = [client.evaluate_per() for client in clients]\n",
    "        \n",
    "        cfl_stats.log({\"acc_clients\" : acc_clients, \"mean_norm\" : mean_norm, \"max_norm\" : max_norm,\n",
    "                    \"rounds\" : c_round, \"clusters\" : cluster_indices})\n",
    "        \n",
    "        display_train_stats(cfl_stats, EPS_1, EPS_2, args.n_rounds)\n",
    "        pbar.update(1)\n",
    "        \n",
    "    for idc in cluster_indices:    \n",
    "        server.cache_model(idc, clients[idc[0]].W, acc_clients)"
   ]
  },
  {
   "cell_type": "code",
   "execution_count": 14,
   "metadata": {},
   "outputs": [
    {
     "name": "stderr",
     "output_type": "stream",
     "text": [
      "  0%|          | 0/100 [00:00<?, ?it/s]"
     ]
    },
    {
     "name": "stdout",
     "output_type": "stream",
     "text": [
      "  第 1 轮的client平均精度为：0.003401\n"
     ]
    },
    {
     "name": "stderr",
     "output_type": "stream",
     "text": [
      "  1%|          | 1/100 [00:13<22:36, 13.70s/it]"
     ]
    },
    {
     "name": "stderr",
     "output_type": "stream",
     "text": [
      "  2%|▏         | 2/100 [00:28<23:17, 14.26s/it]"
     ]
    },
    {
     "name": "stdout",
     "output_type": "stream",
     "text": [
      "  第 2 轮的client平均精度为：0.007722\n",
      "  第 3 轮的client平均精度为：0.007722\n"
     ]
    },
    {
     "name": "stderr",
     "output_type": "stream",
     "text": [
      "  4%|▍         | 4/100 [00:57<23:05, 14.43s/it]"
     ]
    },
    {
     "name": "stdout",
     "output_type": "stream",
     "text": [
      "  第 4 轮的client平均精度为：0.004864\n"
     ]
    },
    {
     "name": "stderr",
     "output_type": "stream",
     "text": [
      "  5%|▌         | 5/100 [01:11<22:45, 14.37s/it]"
     ]
    },
    {
     "name": "stdout",
     "output_type": "stream",
     "text": [
      "  第 5 轮的client平均精度为：0.004864\n"
     ]
    },
    {
     "name": "stderr",
     "output_type": "stream",
     "text": [
      "  6%|▌         | 6/100 [01:27<23:25, 14.95s/it]"
     ]
    },
    {
     "name": "stdout",
     "output_type": "stream",
     "text": [
      "  第 6 轮的client平均精度为：0.007665\n"
     ]
    },
    {
     "name": "stderr",
     "output_type": "stream",
     "text": [
      "  7%|▋         | 7/100 [01:46<24:52, 16.05s/it]"
     ]
    },
    {
     "name": "stdout",
     "output_type": "stream",
     "text": [
      "  第 7 轮的client平均精度为：0.007665\n"
     ]
    },
    {
     "name": "stderr",
     "output_type": "stream",
     "text": [
      "  8%|▊         | 8/100 [02:04<25:38, 16.73s/it]"
     ]
    },
    {
     "name": "stdout",
     "output_type": "stream",
     "text": [
      "  第 8 轮的client平均精度为：0.015432\n"
     ]
    },
    {
     "name": "stderr",
     "output_type": "stream",
     "text": [
      "  9%|▉         | 9/100 [02:22<26:12, 17.28s/it]"
     ]
    },
    {
     "name": "stdout",
     "output_type": "stream",
     "text": [
      "  第 9 轮的client平均精度为：0.015432\n"
     ]
    },
    {
     "name": "stderr",
     "output_type": "stream",
     "text": [
      " 10%|█         | 10/100 [02:40<25:56, 17.29s/it]"
     ]
    },
    {
     "name": "stdout",
     "output_type": "stream",
     "text": [
      "  第 10 轮的client平均精度为：0.008966\n"
     ]
    },
    {
     "name": "stderr",
     "output_type": "stream",
     "text": [
      " 11%|█         | 11/100 [02:58<26:12, 17.67s/it]"
     ]
    },
    {
     "name": "stdout",
     "output_type": "stream",
     "text": [
      "  第 11 轮的client平均精度为：0.008966\n"
     ]
    },
    {
     "name": "stderr",
     "output_type": "stream",
     "text": [
      " 12%|█▏        | 12/100 [03:16<26:12, 17.87s/it]"
     ]
    },
    {
     "name": "stdout",
     "output_type": "stream",
     "text": [
      "  第 12 轮的client平均精度为：0.016460\n"
     ]
    },
    {
     "name": "stderr",
     "output_type": "stream",
     "text": [
      " 13%|█▎        | 13/100 [03:35<26:05, 18.00s/it]"
     ]
    },
    {
     "name": "stdout",
     "output_type": "stream",
     "text": [
      "  第 13 轮的client平均精度为：0.016460\n"
     ]
    },
    {
     "name": "stderr",
     "output_type": "stream",
     "text": [
      " 14%|█▍        | 14/100 [03:53<25:51, 18.04s/it]"
     ]
    },
    {
     "name": "stdout",
     "output_type": "stream",
     "text": [
      "  第 14 轮的client平均精度为：0.012976\n"
     ]
    },
    {
     "name": "stderr",
     "output_type": "stream",
     "text": [
      " 15%|█▌        | 15/100 [04:11<25:27, 17.98s/it]"
     ]
    },
    {
     "name": "stdout",
     "output_type": "stream",
     "text": [
      "  第 15 轮的client平均精度为：0.012976\n"
     ]
    },
    {
     "name": "stderr",
     "output_type": "stream",
     "text": [
      " 16%|█▌        | 16/100 [04:29<25:18, 18.08s/it]"
     ]
    },
    {
     "name": "stdout",
     "output_type": "stream",
     "text": [
      "  第 16 轮的client平均精度为：0.014120\n"
     ]
    },
    {
     "name": "stderr",
     "output_type": "stream",
     "text": [
      " 17%|█▋        | 17/100 [04:47<25:02, 18.10s/it]"
     ]
    },
    {
     "name": "stdout",
     "output_type": "stream",
     "text": [
      "  第 17 轮的client平均精度为：0.014120\n"
     ]
    },
    {
     "name": "stderr",
     "output_type": "stream",
     "text": [
      " 18%|█▊        | 18/100 [05:05<24:42, 18.08s/it]"
     ]
    },
    {
     "name": "stdout",
     "output_type": "stream",
     "text": [
      "  第 18 轮的client平均精度为：0.022391\n"
     ]
    },
    {
     "name": "stderr",
     "output_type": "stream",
     "text": [
      " 19%|█▉        | 19/100 [05:24<24:32, 18.18s/it]"
     ]
    },
    {
     "name": "stdout",
     "output_type": "stream",
     "text": [
      "  第 19 轮的client平均精度为：0.022391\n"
     ]
    },
    {
     "name": "stderr",
     "output_type": "stream",
     "text": [
      "/data/test/miniconda3/envs/FL_ZHOUYING/lib/python3.8/site-packages/sklearn/cluster/_kmeans.py:1416: FutureWarning: The default value of `n_init` will change from 10 to 'auto' in 1.4. Set the value of `n_init` explicitly to suppress the warning\n",
      "  super()._check_params_vs_input(X, default_n_init=10)\n"
     ]
    },
    {
     "name": "stdout",
     "output_type": "stream",
     "text": [
      "[[0, 2, 3, 4, 5, 6, 7, 8, 12, 14, 15, 16, 17, 19], [1, 9, 10, 11, 13, 18]]\n",
      "[[<method.ditto.client.DittoClient object at 0x7ff49fb25700>, <method.ditto.client.DittoClient object at 0x7ff4963f0b20>, <method.ditto.client.DittoClient object at 0x7ff496424250>, <method.ditto.client.DittoClient object at 0x7ff4964246d0>, <method.ditto.client.DittoClient object at 0x7ff496424b50>, <method.ditto.client.DittoClient object at 0x7ff496424fa0>, <method.ditto.client.DittoClient object at 0x7ff4963e5490>, <method.ditto.client.DittoClient object at 0x7ff4963e5910>, <method.ditto.client.DittoClient object at 0x7ff4963a2b50>, <method.ditto.client.DittoClient object at 0x7ff496362490>, <method.ditto.client.DittoClient object at 0x7ff496362910>, <method.ditto.client.DittoClient object at 0x7ff496362d90>, <method.ditto.client.DittoClient object at 0x7ff49631d250>, <method.ditto.client.DittoClient object at 0x7ff49631db50>], [<method.ditto.client.DittoClient object at 0x7ff49645e5b0>, <method.ditto.client.DittoClient object at 0x7ff4963e5d90>, <method.ditto.client.DittoClient object at 0x7ff4963a2250>, <method.ditto.client.DittoClient object at 0x7ff4963a26d0>, <method.ditto.client.DittoClient object at 0x7ff4963a2fa0>, <method.ditto.client.DittoClient object at 0x7ff49631d6d0>]]\n",
      "result [[<method.ditto.client.DittoClient object at 0x7ff4963e5d90>, <method.ditto.client.DittoClient object at 0x7ff4963a2fa0>, <method.ditto.client.DittoClient object at 0x7ff4963a2250>]]\n"
     ]
    },
    {
     "name": "stderr",
     "output_type": "stream",
     "text": [
      " 20%|██        | 20/100 [05:42<24:24, 18.31s/it]"
     ]
    },
    {
     "name": "stdout",
     "output_type": "stream",
     "text": [
      "  第 20 轮的client平均精度为：0.021671\n",
      "result [[<method.ditto.client.DittoClient object at 0x7ff4963e5d90>, <method.ditto.client.DittoClient object at 0x7ff4963a2fa0>]]\n"
     ]
    },
    {
     "name": "stderr",
     "output_type": "stream",
     "text": [
      "/data/test/zhouying/完整交付代码/utils/plots.py:55: RuntimeWarning: More than 20 figures have been opened. Figures created through the pyplot interface (`matplotlib.pyplot.figure`) are retained until explicitly closed and may consume too much memory. (To control this warning, see the rcParam `figure.max_open_warning`). Consider using `matplotlib.pyplot.close()`.\n",
      "  plt.figure(figsize=(12,4))\n",
      " 21%|██        | 21/100 [06:01<24:08, 18.34s/it]"
     ]
    },
    {
     "name": "stdout",
     "output_type": "stream",
     "text": [
      "  第 21 轮的client平均精度为：0.024335\n",
      "result [[<method.ditto.client.DittoClient object at 0x7ff49631d6d0>, <method.ditto.client.DittoClient object at 0x7ff49645e5b0>]]\n"
     ]
    },
    {
     "name": "stderr",
     "output_type": "stream",
     "text": [
      " 22%|██▏       | 22/100 [06:18<23:37, 18.18s/it]"
     ]
    },
    {
     "name": "stdout",
     "output_type": "stream",
     "text": [
      "  第 22 轮的client平均精度为：0.027848\n",
      "result [[<method.ditto.client.DittoClient object at 0x7ff4963e5d90>, <method.ditto.client.DittoClient object at 0x7ff4963a2fa0>, <method.ditto.client.DittoClient object at 0x7ff4963a2250>]]\n"
     ]
    },
    {
     "name": "stderr",
     "output_type": "stream",
     "text": [
      " 23%|██▎       | 23/100 [06:37<23:19, 18.18s/it]"
     ]
    },
    {
     "name": "stdout",
     "output_type": "stream",
     "text": [
      "  第 23 轮的client平均精度为：0.030760\n",
      "result [[<method.ditto.client.DittoClient object at 0x7ff4963a2fa0>]]\n"
     ]
    },
    {
     "name": "stderr",
     "output_type": "stream",
     "text": [
      " 24%|██▍       | 24/100 [06:55<23:08, 18.26s/it]"
     ]
    },
    {
     "name": "stdout",
     "output_type": "stream",
     "text": [
      "  第 24 轮的client平均精度为：0.034351\n",
      "result [[<method.ditto.client.DittoClient object at 0x7ff4963e5d90>, <method.ditto.client.DittoClient object at 0x7ff4963a2fa0>]]\n",
      "  第 25 轮的client平均精度为：0.036915\n"
     ]
    },
    {
     "name": "stderr",
     "output_type": "stream",
     "text": [
      " 25%|██▌       | 25/100 [07:13<22:49, 18.26s/it]"
     ]
    },
    {
     "name": "stdout",
     "output_type": "stream",
     "text": [
      "result [[<method.ditto.client.DittoClient object at 0x7ff49631d6d0>, <method.ditto.client.DittoClient object at 0x7ff49645e5b0>]]\n"
     ]
    },
    {
     "name": "stderr",
     "output_type": "stream",
     "text": [
      " 26%|██▌       | 26/100 [07:32<22:37, 18.34s/it]"
     ]
    },
    {
     "name": "stdout",
     "output_type": "stream",
     "text": [
      "  第 26 轮的client平均精度为：0.039637\n",
      "result [[<method.ditto.client.DittoClient object at 0x7ff4963e5d90>]]\n"
     ]
    },
    {
     "name": "stderr",
     "output_type": "stream",
     "text": [
      " 27%|██▋       | 27/100 [07:49<22:01, 18.10s/it]"
     ]
    },
    {
     "name": "stdout",
     "output_type": "stream",
     "text": [
      "  第 27 轮的client平均精度为：0.039767\n",
      "result [[<method.ditto.client.DittoClient object at 0x7ff4963a2250>]]\n"
     ]
    },
    {
     "name": "stderr",
     "output_type": "stream",
     "text": [
      " 28%|██▊       | 28/100 [08:08<21:44, 18.12s/it]"
     ]
    },
    {
     "name": "stdout",
     "output_type": "stream",
     "text": [
      "  第 28 轮的client平均精度为：0.044003\n",
      "result [[<method.ditto.client.DittoClient object at 0x7ff49631d6d0>], [<method.ditto.client.DittoClient object at 0x7ff4963e5d90>]]\n",
      "  第 29 轮的client平均精度为：0.049433\n"
     ]
    },
    {
     "name": "stderr",
     "output_type": "stream",
     "text": [
      " 29%|██▉       | 29/100 [08:26<21:36, 18.27s/it]"
     ]
    },
    {
     "name": "stdout",
     "output_type": "stream",
     "text": [
      "result [[<method.ditto.client.DittoClient object at 0x7ff4963a26d0>], [<method.ditto.client.DittoClient object at 0x7ff4963e5d90>, <method.ditto.client.DittoClient object at 0x7ff4963a2250>]]\n"
     ]
    },
    {
     "name": "stderr",
     "output_type": "stream",
     "text": [
      " 30%|███       | 30/100 [08:44<21:17, 18.26s/it]"
     ]
    },
    {
     "name": "stdout",
     "output_type": "stream",
     "text": [
      "  第 30 轮的client平均精度为：0.053966\n",
      "result [[<method.ditto.client.DittoClient object at 0x7ff4963e5d90>, <method.ditto.client.DittoClient object at 0x7ff4963a2250>]]\n"
     ]
    },
    {
     "name": "stderr",
     "output_type": "stream",
     "text": [
      " 31%|███       | 31/100 [09:01<20:32, 17.87s/it]"
     ]
    },
    {
     "name": "stdout",
     "output_type": "stream",
     "text": [
      "  第 31 轮的client平均精度为：0.056216\n",
      "result [[<method.ditto.client.DittoClient object at 0x7ff49631d6d0>, <method.ditto.client.DittoClient object at 0x7ff4963a26d0>], [<method.ditto.client.DittoClient object at 0x7ff4963a2fa0>]]\n"
     ]
    },
    {
     "name": "stderr",
     "output_type": "stream",
     "text": [
      " 32%|███▏      | 32/100 [09:16<19:15, 16.99s/it]"
     ]
    },
    {
     "name": "stdout",
     "output_type": "stream",
     "text": [
      "  第 32 轮的client平均精度为：0.063504\n",
      "result [[<method.ditto.client.DittoClient object at 0x7ff4963a2fa0>]]\n"
     ]
    },
    {
     "name": "stderr",
     "output_type": "stream",
     "text": [
      " 33%|███▎      | 33/100 [09:31<18:17, 16.39s/it]"
     ]
    },
    {
     "name": "stdout",
     "output_type": "stream",
     "text": [
      "  第 33 轮的client平均精度为：0.064336\n",
      "result [[<method.ditto.client.DittoClient object at 0x7ff49631d6d0>, <method.ditto.client.DittoClient object at 0x7ff49645e5b0>, <method.ditto.client.DittoClient object at 0x7ff4963a26d0>], [<method.ditto.client.DittoClient object at 0x7ff4963a2fa0>]]\n"
     ]
    },
    {
     "name": "stderr",
     "output_type": "stream",
     "text": [
      " 34%|███▍      | 34/100 [09:46<17:34, 15.97s/it]"
     ]
    },
    {
     "name": "stdout",
     "output_type": "stream",
     "text": [
      "  第 34 轮的client平均精度为：0.067013\n",
      "result [[<method.ditto.client.DittoClient object at 0x7ff49631d6d0>], [<method.ditto.client.DittoClient object at 0x7ff4963a2fa0>]]\n"
     ]
    },
    {
     "name": "stderr",
     "output_type": "stream",
     "text": [
      " 35%|███▌      | 35/100 [10:01<16:52, 15.57s/it]"
     ]
    },
    {
     "name": "stdout",
     "output_type": "stream",
     "text": [
      "  第 35 轮的client平均精度为：0.073755\n",
      "result [[<method.ditto.client.DittoClient object at 0x7ff49645e5b0>], [<method.ditto.client.DittoClient object at 0x7ff4963a2fa0>]]\n"
     ]
    },
    {
     "name": "stderr",
     "output_type": "stream",
     "text": [
      " 36%|███▌      | 36/100 [10:16<16:21, 15.34s/it]"
     ]
    },
    {
     "name": "stdout",
     "output_type": "stream",
     "text": [
      "  第 36 轮的client平均精度为：0.079776\n",
      "result [[<method.ditto.client.DittoClient object at 0x7ff49645e5b0>]]\n"
     ]
    },
    {
     "name": "stderr",
     "output_type": "stream",
     "text": [
      " 37%|███▋      | 37/100 [10:31<16:01, 15.27s/it]"
     ]
    },
    {
     "name": "stdout",
     "output_type": "stream",
     "text": [
      "  第 37 轮的client平均精度为：0.078678\n",
      "result [[<method.ditto.client.DittoClient object at 0x7ff49645e5b0>], [<method.ditto.client.DittoClient object at 0x7ff4963a2fa0>]]\n"
     ]
    },
    {
     "name": "stderr",
     "output_type": "stream",
     "text": [
      " 38%|███▊      | 38/100 [10:46<15:43, 15.22s/it]"
     ]
    },
    {
     "name": "stdout",
     "output_type": "stream",
     "text": [
      "  第 38 轮的client平均精度为：0.087673\n",
      "result [[<method.ditto.client.DittoClient object at 0x7ff49631d6d0>, <method.ditto.client.DittoClient object at 0x7ff4963a26d0>], [<method.ditto.client.DittoClient object at 0x7ff4963a2fa0>]]\n"
     ]
    },
    {
     "name": "stderr",
     "output_type": "stream",
     "text": [
      " 39%|███▉      | 39/100 [11:01<15:20, 15.09s/it]"
     ]
    },
    {
     "name": "stdout",
     "output_type": "stream",
     "text": [
      "  第 39 轮的client平均精度为：0.101305\n",
      "result [[<method.ditto.client.DittoClient object at 0x7ff49631d6d0>, <method.ditto.client.DittoClient object at 0x7ff49645e5b0>], [<method.ditto.client.DittoClient object at 0x7ff4963a2fa0>, <method.ditto.client.DittoClient object at 0x7ff4963a2250>]]\n"
     ]
    },
    {
     "name": "stderr",
     "output_type": "stream",
     "text": [
      " 40%|████      | 40/100 [11:16<15:07, 15.13s/it]"
     ]
    },
    {
     "name": "stdout",
     "output_type": "stream",
     "text": [
      "  第 40 轮的client平均精度为：0.117047\n",
      "result [[<method.ditto.client.DittoClient object at 0x7ff49631d6d0>, <method.ditto.client.DittoClient object at 0x7ff49645e5b0>, <method.ditto.client.DittoClient object at 0x7ff4963a26d0>]]\n"
     ]
    },
    {
     "name": "stderr",
     "output_type": "stream",
     "text": [
      " 41%|████      | 41/100 [11:31<14:53, 15.15s/it]"
     ]
    },
    {
     "name": "stdout",
     "output_type": "stream",
     "text": [
      "  第 41 轮的client平均精度为：0.121629\n",
      "result [[<method.ditto.client.DittoClient object at 0x7ff4963a2fa0>, <method.ditto.client.DittoClient object at 0x7ff4963a2250>]]\n"
     ]
    },
    {
     "name": "stderr",
     "output_type": "stream",
     "text": [
      " 42%|████▏     | 42/100 [11:46<14:35, 15.10s/it]"
     ]
    },
    {
     "name": "stdout",
     "output_type": "stream",
     "text": [
      "  第 42 轮的client平均精度为：0.125523\n",
      "result [[<method.ditto.client.DittoClient object at 0x7ff49645e5b0>, <method.ditto.client.DittoClient object at 0x7ff4963a26d0>]]\n"
     ]
    },
    {
     "name": "stderr",
     "output_type": "stream",
     "text": [
      " 43%|████▎     | 43/100 [12:01<14:11, 14.93s/it]"
     ]
    },
    {
     "name": "stdout",
     "output_type": "stream",
     "text": [
      "  第 43 轮的client平均精度为：0.133694\n",
      "result [[<method.ditto.client.DittoClient object at 0x7ff49645e5b0>, <method.ditto.client.DittoClient object at 0x7ff4963a26d0>], [<method.ditto.client.DittoClient object at 0x7ff4963a2250>]]\n",
      "  第 44 轮的client平均精度为：0.140239\n"
     ]
    },
    {
     "name": "stderr",
     "output_type": "stream",
     "text": [
      " 44%|████▍     | 44/100 [12:16<14:03, 15.07s/it]"
     ]
    },
    {
     "name": "stdout",
     "output_type": "stream",
     "text": [
      "result [[<method.ditto.client.DittoClient object at 0x7ff4963a2fa0>, <method.ditto.client.DittoClient object at 0x7ff4963a2250>]]\n"
     ]
    },
    {
     "name": "stderr",
     "output_type": "stream",
     "text": [
      " 45%|████▌     | 45/100 [12:31<13:49, 15.09s/it]"
     ]
    },
    {
     "name": "stdout",
     "output_type": "stream",
     "text": [
      "  第 45 轮的client平均精度为：0.146348\n",
      "result [[<method.ditto.client.DittoClient object at 0x7ff4963a26d0>]]\n"
     ]
    },
    {
     "name": "stderr",
     "output_type": "stream",
     "text": [
      " 46%|████▌     | 46/100 [12:46<13:30, 15.01s/it]"
     ]
    },
    {
     "name": "stdout",
     "output_type": "stream",
     "text": [
      "  第 46 轮的client平均精度为：0.148838\n",
      "result [[<method.ditto.client.DittoClient object at 0x7ff49631d6d0>, <method.ditto.client.DittoClient object at 0x7ff4963a26d0>], [<method.ditto.client.DittoClient object at 0x7ff4963a2250>]]\n"
     ]
    },
    {
     "name": "stderr",
     "output_type": "stream",
     "text": [
      " 47%|████▋     | 47/100 [13:01<13:20, 15.10s/it]"
     ]
    },
    {
     "name": "stdout",
     "output_type": "stream",
     "text": [
      "  第 47 轮的client平均精度为：0.153996\n",
      "result [[<method.ditto.client.DittoClient object at 0x7ff49645e5b0>]]\n"
     ]
    },
    {
     "name": "stderr",
     "output_type": "stream",
     "text": [
      " 48%|████▊     | 48/100 [13:16<13:04, 15.08s/it]"
     ]
    },
    {
     "name": "stdout",
     "output_type": "stream",
     "text": [
      "  第 48 轮的client平均精度为：0.154488\n",
      "result [[<method.ditto.client.DittoClient object at 0x7ff49645e5b0>, <method.ditto.client.DittoClient object at 0x7ff4963a26d0>], [<method.ditto.client.DittoClient object at 0x7ff4963e5d90>]]\n"
     ]
    },
    {
     "name": "stderr",
     "output_type": "stream",
     "text": [
      " 49%|████▉     | 49/100 [13:31<12:46, 15.03s/it]"
     ]
    },
    {
     "name": "stdout",
     "output_type": "stream",
     "text": [
      "  第 49 轮的client平均精度为：0.159461\n",
      "result [[<method.ditto.client.DittoClient object at 0x7ff4963e5d90>, <method.ditto.client.DittoClient object at 0x7ff4963a2250>]]\n"
     ]
    },
    {
     "name": "stderr",
     "output_type": "stream",
     "text": [
      " 50%|█████     | 50/100 [13:46<12:27, 14.95s/it]"
     ]
    },
    {
     "name": "stdout",
     "output_type": "stream",
     "text": [
      "  第 50 轮的client平均精度为：0.169670\n",
      "result [[<method.ditto.client.DittoClient object at 0x7ff49631d6d0>, <method.ditto.client.DittoClient object at 0x7ff4963a26d0>], [<method.ditto.client.DittoClient object at 0x7ff4963e5d90>]]\n"
     ]
    },
    {
     "name": "stderr",
     "output_type": "stream",
     "text": [
      " 51%|█████     | 51/100 [14:01<12:14, 14.98s/it]"
     ]
    },
    {
     "name": "stdout",
     "output_type": "stream",
     "text": [
      "  第 51 轮的client平均精度为：0.179764\n"
     ]
    }
   ],
   "source": [
    "torch.backends.cudnn.enabled = False\n",
    "run_experiment(args, clients, server,closest_indices)"
   ]
  }
 ],
 "metadata": {
  "kernelspec": {
   "display_name": "zhouying",
   "language": "python",
   "name": "python3"
  },
  "language_info": {
   "codemirror_mode": {
    "name": "ipython",
    "version": 3
   },
   "file_extension": ".py",
   "mimetype": "text/x-python",
   "name": "python",
   "nbconvert_exporter": "python",
   "pygments_lexer": "ipython3",
   "version": "3.8.18"
  }
 },
 "nbformat": 4,
 "nbformat_minor": 2
}
